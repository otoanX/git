{
 "nbformat": 4,
 "nbformat_minor": 2,
 "metadata": {
  "language_info": {
   "name": "python",
   "codemirror_mode": {
    "name": "ipython",
    "version": 3
   },
   "version": "3.7.7-final"
  },
  "orig_nbformat": 2,
  "file_extension": ".py",
  "mimetype": "text/x-python",
  "name": "python",
  "npconvert_exporter": "python",
  "pygments_lexer": "ipython3",
  "version": 3,
  "kernelspec": {
   "name": "python37764bitvaeconda9f0c562005374333be70bc26d5646073",
   "display_name": "Python 3.7.7 64-bit ('vae': conda)"
  }
 },
 "cells": [
  {
   "cell_type": "markdown",
   "metadata": {},
   "source": [
    "# KerasでVAEを作ろう！\n",
    "会社でVAEを使った画像異常検知プログラムを作ることになったので、家で練習してみる。  \n",
    "## 参考サイト\n",
    "* Windows版AnacondaでTensorFlow環境構築  \n",
    "https://qiita.com/exy81/items/48314b968d9fad6170c8\n",
    "* Dockerコンテナで、Keras + TensorFlow / Jupyter notebook環境を簡単にデプロイする  \n",
    "GPU対応みたい。自分のパソコンではできない。  \n",
    "https://qiita.com/ttsubo/items/97862dc67a9041715d17\n",
    "* Tensorflowのdockerを使ってみる（macOS）  \n",
    "macOSだけど、考え方は近い。ていうかmacだとGPUほぼ使えないのか。\n",
    "https://qiita.com/mktshhr/items/d6eda04e3b4eae8fd51d\n",
    "\n",
    "## Kerasの導入\n",
    "前にKerasはインストールしたし、すぐ動くだろう・・・くらいで考えていたが、一晩無駄にするくらいうまくいかない。pipで入れてもダメ、condaでインストールしてもうまく動かない。ていうかネットの情報が古いようで、tensolflow2.0以降は色々変わっているみたい。テストプログラムが全然動かない。  \n",
    "色々探していると、良い記事を見つけた。どうもAnacondaによるTensorflowは古いようで、現在は別の選択肢のほうがいいみたい。  \n",
    "\n",
    "## Docker\n",
    "\n",
    "* \n",
    "https://qiita.com/Yuki_Oshima/items/d3b52c553387685460b0"
   ]
  },
  {
   "cell_type": "code",
   "execution_count": 5,
   "metadata": {},
   "outputs": [
    {
     "output_type": "error",
     "ename": "SyntaxError",
     "evalue": "invalid syntax (<ipython-input-5-4fd1f003a18e>, line 1)",
     "traceback": [
      "\u001b[1;36m  File \u001b[1;32m\"<ipython-input-5-4fd1f003a18e>\"\u001b[1;36m, line \u001b[1;32m1\u001b[0m\n\u001b[1;33m    $docker pull tensorflow/tensorflow\u001b[0m\n\u001b[1;37m    ^\u001b[0m\n\u001b[1;31mSyntaxError\u001b[0m\u001b[1;31m:\u001b[0m invalid syntax\n"
     ]
    }
   ],
   "source": [
    "$docker pull tensorflow/tensorflow"
   ]
  },
  {
   "cell_type": "code",
   "execution_count": null,
   "metadata": {},
   "outputs": [],
   "source": []
  }
 ]
}