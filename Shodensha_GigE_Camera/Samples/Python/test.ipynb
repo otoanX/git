{
 "metadata": {
  "language_info": {
   "codemirror_mode": {
    "name": "ipython",
    "version": 3
   },
   "file_extension": ".py",
   "mimetype": "text/x-python",
   "name": "python",
   "nbconvert_exporter": "python",
   "pygments_lexer": "ipython3",
   "version": 3
  },
  "orig_nbformat": 2,
  "kernelspec": {
   "name": "python_defaultSpec_1596526616092",
   "display_name": "Python 3.7.2 64-bit"
  }
 },
 "nbformat": 4,
 "nbformat_minor": 2,
 "cells": [
  {
   "cell_type": "markdown",
   "metadata": {},
   "source": [
    "# pythonを使った松電舎GigEカメラの接続およびトリガパルスによる撮影\n",
    "## "
   ]
  },
  {
   "cell_type": "markdown",
   "metadata": {},
   "source": [
    "## pipインストール"
   ]
  },
  {
   "cell_type": "code",
   "execution_count": 1,
   "metadata": {
    "tags": []
   },
   "outputs": [
    {
     "output_type": "stream",
     "name": "stdout",
     "text": "Collecting Flask\n  Downloading Flask-1.1.2-py2.py3-none-any.whl (94 kB)\nCollecting click>=5.1\n  Downloading click-7.1.2-py2.py3-none-any.whl (82 kB)\nCollecting Jinja2>=2.10.1\n  Downloading Jinja2-2.11.2-py2.py3-none-any.whl (125 kB)\nRequirement already satisfied: Werkzeug>=0.15 in c:\\python37\\lib\\site-packages (from Flask) (0.16.0)\nCollecting itsdangerous>=0.24\n  Downloading itsdangerous-1.1.0-py2.py3-none-any.whl (16 kB)\nCollecting MarkupSafe>=0.23\n  Downloading MarkupSafe-1.1.1-cp37-cp37m-win_amd64.whl (16 kB)\nInstalling collected packages: click, MarkupSafe, Jinja2, itsdangerous, Flask\nSuccessfully installed Flask-1.1.2 Jinja2-2.11.2 MarkupSafe-1.1.1 click-7.1.2 itsdangerous-1.1.0\nNote: you may need to restart the kernel to use updated packages.\nWARNING: You are using pip version 20.1.1; however, version 20.2 is available.\nYou should consider upgrading via the 'C:\\Python37\\python.exe -m pip install --upgrade pip' command.\n"
    }
   ],
   "source": [
    "pip install Flask"
   ]
  },
  {
   "cell_type": "code",
   "execution_count": 5,
   "metadata": {
    "tags": []
   },
   "outputs": [
    {
     "output_type": "error",
     "ename": "NameError",
     "evalue": "name 'Falase' is not defined",
     "traceback": [
      "\u001b[1;31m---------------------------------------------------------------------------\u001b[0m",
      "\u001b[1;31mNameError\u001b[0m                                 Traceback (most recent call last)",
      "\u001b[1;32m<ipython-input-5-62ad76640942>\u001b[0m in \u001b[0;36m<module>\u001b[1;34m\u001b[0m\n\u001b[0;32m      7\u001b[0m     \u001b[1;32mreturn\u001b[0m \u001b[0mrender_template\u001b[0m\u001b[1;33m(\u001b[0m\u001b[1;34m'index.html'\u001b[0m\u001b[1;33m,\u001b[0m \u001b[0mmessage\u001b[0m\u001b[1;33m=\u001b[0m\u001b[1;34m\"花子さん\"\u001b[0m\u001b[1;33m)\u001b[0m\u001b[1;33m\u001b[0m\u001b[1;33m\u001b[0m\u001b[0m\n\u001b[0;32m      8\u001b[0m \u001b[1;33m\u001b[0m\u001b[0m\n\u001b[1;32m----> 9\u001b[1;33m \u001b[0mapp\u001b[0m\u001b[1;33m.\u001b[0m\u001b[0mrun\u001b[0m\u001b[1;33m(\u001b[0m\u001b[0mport\u001b[0m\u001b[1;33m=\u001b[0m\u001b[1;36m12345\u001b[0m\u001b[1;33m,\u001b[0m \u001b[0mdebug\u001b[0m\u001b[1;33m=\u001b[0m\u001b[0mFalase\u001b[0m\u001b[1;33m)\u001b[0m\u001b[1;33m\u001b[0m\u001b[1;33m\u001b[0m\u001b[0m\n\u001b[0m",
      "\u001b[1;31mNameError\u001b[0m: name 'Falase' is not defined"
     ]
    }
   ],
   "source": [
    "from flask import Flask,render_template\n",
    "\n",
    "app = Flask(__name__)\n",
    "\n",
    "@app.route('/')\n",
    "def index():\n",
    "    return render_template('index.html', message=\"花子さん\")\n",
    "\n",
    "app.run(port=12345, debug=False)\n"
   ]
  },
  {
   "cell_type": "markdown",
   "metadata": {},
   "source": [
    "## Flaskによるサーバー立ち上げ"
   ]
  },
  {
   "cell_type": "markdown",
   "metadata": {},
   "source": [
    "## カメラの接続"
   ]
  },
  {
   "cell_type": "code",
   "execution_count": 4,
   "metadata": {},
   "outputs": [
    {
     "output_type": "error",
     "ename": "ValueError",
     "evalue": "invalid literal for int() with base 10: ''",
     "traceback": [
      "\u001b[1;31m---------------------------------------------------------------------------\u001b[0m",
      "\u001b[1;31mValueError\u001b[0m                                Traceback (most recent call last)",
      "\u001b[1;32m<ipython-input-4-152a8317c2a5>\u001b[0m in \u001b[0;36m<module>\u001b[1;34m\u001b[0m\n\u001b[0;32m     39\u001b[0m \u001b[1;33m\u001b[0m\u001b[0m\n\u001b[0;32m     40\u001b[0m     \u001b[0mdeviceIpList\u001b[0m \u001b[1;33m=\u001b[0m \u001b[0mdeviceIp\u001b[0m\u001b[1;33m.\u001b[0m\u001b[0msplit\u001b[0m\u001b[1;33m(\u001b[0m\u001b[1;34m'.'\u001b[0m\u001b[1;33m)\u001b[0m\u001b[1;33m\u001b[0m\u001b[1;33m\u001b[0m\u001b[0m\n\u001b[1;32m---> 41\u001b[1;33m     \u001b[0mstGigEDev\u001b[0m\u001b[1;33m.\u001b[0m\u001b[0mnCurrentIp\u001b[0m \u001b[1;33m=\u001b[0m \u001b[1;33m(\u001b[0m\u001b[0mint\u001b[0m\u001b[1;33m(\u001b[0m\u001b[0mdeviceIpList\u001b[0m\u001b[1;33m[\u001b[0m\u001b[1;36m0\u001b[0m\u001b[1;33m]\u001b[0m\u001b[1;33m)\u001b[0m \u001b[1;33m<<\u001b[0m \u001b[1;36m24\u001b[0m\u001b[1;33m)\u001b[0m \u001b[1;33m|\u001b[0m \u001b[1;33m(\u001b[0m\u001b[0mint\u001b[0m\u001b[1;33m(\u001b[0m\u001b[0mdeviceIpList\u001b[0m\u001b[1;33m[\u001b[0m\u001b[1;36m1\u001b[0m\u001b[1;33m]\u001b[0m\u001b[1;33m)\u001b[0m \u001b[1;33m<<\u001b[0m \u001b[1;36m16\u001b[0m\u001b[1;33m)\u001b[0m \u001b[1;33m|\u001b[0m \u001b[1;33m(\u001b[0m\u001b[0mint\u001b[0m\u001b[1;33m(\u001b[0m\u001b[0mdeviceIpList\u001b[0m\u001b[1;33m[\u001b[0m\u001b[1;36m2\u001b[0m\u001b[1;33m]\u001b[0m\u001b[1;33m)\u001b[0m \u001b[1;33m<<\u001b[0m \u001b[1;36m8\u001b[0m\u001b[1;33m)\u001b[0m \u001b[1;33m|\u001b[0m \u001b[0mint\u001b[0m\u001b[1;33m(\u001b[0m\u001b[0mdeviceIpList\u001b[0m\u001b[1;33m[\u001b[0m\u001b[1;36m3\u001b[0m\u001b[1;33m]\u001b[0m\u001b[1;33m)\u001b[0m\u001b[1;33m\u001b[0m\u001b[1;33m\u001b[0m\u001b[0m\n\u001b[0m\u001b[0;32m     42\u001b[0m \u001b[1;33m\u001b[0m\u001b[0m\n\u001b[0;32m     43\u001b[0m     \u001b[0mnetIpList\u001b[0m \u001b[1;33m=\u001b[0m \u001b[0mnetIp\u001b[0m\u001b[1;33m.\u001b[0m\u001b[0msplit\u001b[0m\u001b[1;33m(\u001b[0m\u001b[1;34m'.'\u001b[0m\u001b[1;33m)\u001b[0m\u001b[1;33m\u001b[0m\u001b[1;33m\u001b[0m\u001b[0m\n",
      "\u001b[1;31mValueError\u001b[0m: invalid literal for int() with base 10: ''"
     ]
    }
   ],
   "source": [
    "# -- coding: utf-8 --\n",
    "\n",
    "import time\n",
    "import sys\n",
    "import threading\n",
    "import msvcrt\n",
    "\n",
    "from ctypes import *\n",
    "\n",
    "sys.path.append(\"./MvImport\")\n",
    "from MvCameraControl_class import *\n",
    "\n",
    "g_bExit = False\n",
    "\n",
    "# 为线程定义一个函数(スレッドの関数を定義する)en:Define a function for the thread\n",
    "def work_thread(cam, pData, nDataSize):\n",
    "    stFrameInfo = MV_FRAME_OUT_INFO_EX()\n",
    "    memset(byref(stFrameInfo), 0, sizeof(stFrameInfo))\n",
    "    while True:\n",
    "        ret = cam.MV_CC_GetOneFrameTimeout(pData, nDataSize, stFrameInfo, 1000)\n",
    "        if ret == 0:\n",
    "            print (\"get one frame: Width[%d], Height[%d], nFrameNum[%d]\"  % (stFrameInfo.nWidth, stFrameInfo.nHeight, stFrameInfo.nFrameNum))\n",
    "        else:\n",
    "            print (\"no data[0x%x]\" % ret)\n",
    "        if g_bExit == True:\n",
    "            break\n",
    "\n",
    "if __name__ == \"__main__\":\n",
    "\n",
    "    stDevInfo = MV_CC_DEVICE_INFO()\n",
    "    stGigEDev = MV_GIGE_DEVICE_INFO()\n",
    "\n",
    "    if sys.version >= '3':\n",
    "        deviceIp = input(\"please input current camera ip : \")\n",
    "        netIp = input(\"please input net export ip : \")\n",
    "    else:\n",
    "        deviceIp = raw_input(\"please input current camera ip : \")\n",
    "        netIp = raw_input(\"please input net export ip : \")\n",
    "    \n",
    "    deviceIpList = deviceIp.split('.')\n",
    "    stGigEDev.nCurrentIp = (int(deviceIpList[0]) << 24) | (int(deviceIpList[1]) << 16) | (int(deviceIpList[2]) << 8) | int(deviceIpList[3])\n",
    "\n",
    "    netIpList = netIp.split('.')\n",
    "    stGigEDev.nNetExport =  (int(netIpList[0]) << 24) | (int(netIpList[1]) << 16) | (int(netIpList[2]) << 8) | int(netIpList[3])\n",
    "\n",
    "    stDevInfo.nTLayerType = MV_GIGE_DEVICE\n",
    "    stDevInfo.SpecialInfo.stGigEInfo = stGigEDev\n",
    "\n",
    "    # ch:创建相机实例 | en:Creat Camera Object\n",
    "    cam = MvCamera()\n",
    "\n",
    "    # ch:选择设备并创建句柄 | en:Select device and create handle\n",
    "    ret = cam.MV_CC_CreateHandle(stDevInfo)\n",
    "    if ret != 0:\n",
    "        print (\"create handle fail! ret[0x%x]\" % ret)\n",
    "        sys.exit()\n",
    "\n",
    "    # ch:打开设备 | en:Open device\n",
    "    ret = cam.MV_CC_OpenDevice(MV_ACCESS_Exclusive, 0)\n",
    "    if ret != 0:\n",
    "        print (\"open device fail! ret[0x%x]\" % ret)\n",
    "        sys.exit()\n",
    "    \n",
    "    # ch:探测网络最佳包大小(只对GigE相机有效) | en:Detection network optimal package size(It only works for the GigE camera)\n",
    "    if stDevInfo.nTLayerType == MV_GIGE_DEVICE:\n",
    "        nPacketSize = cam.MV_CC_GetOptimalPacketSize()\n",
    "        if int(nPacketSize) > 0:\n",
    "            ret = cam.MV_CC_SetIntValue(\"GevSCPSPacketSize\",nPacketSize)\n",
    "            if ret != 0:\n",
    "                print (\"Warning: Set Packet Size fail! ret[0x%x]\" % ret)\n",
    "        else:\n",
    "            print (\"Warning: Get Packet Size fail! ret[0x%x]\" % nPacketSize)\n",
    "\n",
    "    # ch:设置触发模式为off | en:Set trigger mode as off\n",
    "    ret = cam.MV_CC_SetEnumValue(\"TriggerMode\", MV_TRIGGER_MODE_OFF)\n",
    "    if ret != 0:\n",
    "        print (\"set trigger mode fail! ret[0x%x]\" % ret)\n",
    "        sys.exit()\n",
    "\n",
    "    #ch:获取数据包大小 | en:Get payload size\n",
    "    stParam =  MVCC_INTVALUE()\n",
    "    memset(byref(stParam), 0, sizeof(MVCC_INTVALUE))\n",
    "    ret = cam.MV_CC_GetIntValue(\"PayloadSize\", stParam)\n",
    "    if ret != 0:\n",
    "        print (\"get payload size fail! ret[0x%x]\" % ret)\n",
    "        sys.exit()\n",
    "    nPayloadSize = stParam.nCurValue\n",
    "\n",
    "    # ch:开始取流 | en:Start grab image\n",
    "    ret = cam.MV_CC_StartGrabbing()\n",
    "    if ret != 0:\n",
    "        print (\"start grabbing fail! ret[0x%x]\" % ret)\n",
    "        sys.exit()\n",
    "\n",
    "    data_buf = (c_ubyte * nPayloadSize)()\n",
    "    try:\n",
    "        hThreadHandle = threading.Thread(target=work_thread, args=(cam, byref(data_buf), nPayloadSize))\n",
    "        hThreadHandle.start()\n",
    "    except:\n",
    "        print (\"error: unable to start thread\")\n",
    "        \n",
    "    print (\"press a key to stop grabbing.\")\n",
    "    msvcrt.getch()\n",
    "\n",
    "    g_bExit = True\n",
    "    hThreadHandle.join()\n",
    "\n",
    "    # ch:停止取流 | en:Stop grab image\n",
    "    ret = cam.MV_CC_StopGrabbing()\n",
    "    if ret != 0:\n",
    "        print (\"stop grabbing fail! ret[0x%x]\" % ret)\n",
    "        del data_buf\n",
    "        sys.exit()\n",
    "\n",
    "    # ch:关闭设备 | Close device\n",
    "    ret = cam.MV_CC_CloseDevice()\n",
    "    if ret != 0:\n",
    "        print (\"close deivce fail! ret[0x%x]\" % ret)\n",
    "        del data_buf\n",
    "        sys.exit()\n",
    "\n",
    "    # ch:销毁句柄 | Destroy handle\n",
    "    ret = cam.MV_CC_DestroyHandle()\n",
    "    if ret != 0:\n",
    "        print (\"destroy handle fail! ret[0x%x]\" % ret)\n",
    "        del data_buf\n",
    "        sys.exit()\n",
    "\n",
    "    del data_buf\n",
    "\n"
   ]
  },
  {
   "cell_type": "markdown",
   "metadata": {},
   "source": [
    "## 画像表示"
   ]
  },
  {
   "cell_type": "code",
   "execution_count": null,
   "metadata": {},
   "outputs": [],
   "source": []
  },
  {
   "cell_type": "markdown",
   "metadata": {},
   "source": [
    "## シーケンサから特定のレジスタ値読み込み"
   ]
  },
  {
   "cell_type": "code",
   "execution_count": null,
   "metadata": {},
   "outputs": [],
   "source": [
    "import socket\n",
    "\n",
    "    host = \"192.168.3.100\"\n",
    "    port = 3000\n",
    "    send_mes \n",
    "\n",
    "    client = socket.socket(socket.AF_INET, socket.SOCK_STREAM)\n",
    "    client.connect((host, port))\n",
    "    client.send(b\"\\x50\\x00\\x00\\xFF\\xFF\\x03\\x00\\x0C\\x00\\x01\\x00\\x01\\x04\\x00\\x00\\x64\\x00\\x00\\xA8\\x02\\x00\")  # 送信文 D100のデータ読み出し\n",
    "    response = client.recv(1024)  # 受信文\n",
    "    print(response)\n",
    "    client.close()"
   ]
  }
 ]
}