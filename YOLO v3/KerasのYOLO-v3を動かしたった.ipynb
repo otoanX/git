{
 "cells": [
  {
   "cell_type": "code",
   "execution_count": 2,
   "metadata": {},
   "outputs": [
    {
     "name": "stdout",
     "output_type": "stream",
     "text": "Requirement already satisfied: tensorflow_gpu in c:\\users\\naoto\\anaconda3\\lib\\site-packages (2.1.0)\nRequirement already satisfied: keras in c:\\users\\naoto\\anaconda3\\lib\\site-packages (2.3.1)\nRequirement already satisfied: pillow in c:\\users\\naoto\\anaconda3\\lib\\site-packages (7.0.0)\nRequirement already satisfied: matplotlib in c:\\users\\naoto\\anaconda3\\lib\\site-packages (3.1.1)\nRequirement already satisfied: keras-applications>=1.0.8 in c:\\users\\naoto\\anaconda3\\lib\\site-packages (from tensorflow_gpu) (1.0.8)\nRequirement already satisfied: numpy<2.0,>=1.16.0 in c:\\users\\naoto\\anaconda3\\lib\\site-packages (from tensorflow_gpu) (1.17.4)\nRequirement already satisfied: astor>=0.6.0 in c:\\users\\naoto\\anaconda3\\lib\\site-packages (from tensorflow_gpu) (0.8.0)\nRequirement already satisfied: opt-einsum>=2.3.2 in c:\\users\\naoto\\anaconda3\\lib\\site-packages (from tensorflow_gpu) (3.2.0)\nRequirement already satisfied: absl-py>=0.7.0 in c:\\users\\naoto\\anaconda3\\lib\\site-packages (from tensorflow_gpu) (0.9.0)\nRequirement already satisfied: google-pasta>=0.1.6 in c:\\users\\naoto\\anaconda3\\lib\\site-packages (from tensorflow_gpu) (0.1.7)\nRequirement already satisfied: wheel>=0.26; python_version >= \"3\" in c:\\users\\naoto\\anaconda3\\lib\\site-packages (from tensorflow_gpu) (0.33.6)\nRequirement already satisfied: tensorboard<2.2.0,>=2.1.0 in c:\\users\\naoto\\anaconda3\\lib\\site-packages (from tensorflow_gpu) (2.1.0)\nRequirement already satisfied: scipy==1.4.1; python_version >= \"3\" in c:\\users\\naoto\\anaconda3\\lib\\site-packages (from tensorflow_gpu) (1.4.1)\nRequirement already satisfied: wrapt>=1.11.1 in c:\\users\\naoto\\anaconda3\\lib\\site-packages (from tensorflow_gpu) (1.11.2)\nRequirement already satisfied: termcolor>=1.1.0 in c:\\users\\naoto\\anaconda3\\lib\\site-packages (from tensorflow_gpu) (1.1.0)\nRequirement already satisfied: gast==0.2.2 in c:\\users\\naoto\\anaconda3\\lib\\site-packages (from tensorflow_gpu) (0.2.2)\nRequirement already satisfied: six>=1.12.0 in c:\\users\\naoto\\anaconda3\\lib\\site-packages (from tensorflow_gpu) (1.13.0)\nRequirement already satisfied: protobuf>=3.8.0 in c:\\users\\naoto\\anaconda3\\lib\\site-packages (from tensorflow_gpu) (3.9.2)\nRequirement already satisfied: tensorflow-gpu-estimator<2.2.0,>=2.1.0rc0 in c:\\users\\naoto\\anaconda3\\lib\\site-packages (from tensorflow_gpu) (2.1.0)\nRequirement already satisfied: grpcio>=1.8.6 in c:\\users\\naoto\\anaconda3\\lib\\site-packages (from tensorflow_gpu) (1.23.0)\nRequirement already satisfied: keras-preprocessing>=1.1.0 in c:\\users\\naoto\\anaconda3\\lib\\site-packages (from tensorflow_gpu) (1.1.0)\nRequirement already satisfied: h5py in c:\\users\\naoto\\anaconda3\\lib\\site-packages (from keras) (2.9.0)\nRequirement already satisfied: pyyaml in c:\\users\\naoto\\anaconda3\\lib\\site-packages (from keras) (5.2)\nRequirement already satisfied: cycler>=0.10 in c:\\users\\naoto\\anaconda3\\lib\\site-packages (from matplotlib) (0.10.0)\nRequirement already satisfied: kiwisolver>=1.0.1 in c:\\users\\naoto\\anaconda3\\lib\\site-packages (from matplotlib) (1.1.0)\nRequirement already satisfied: pyparsing!=2.0.4,!=2.1.2,!=2.1.6,>=2.0.1 in c:\\users\\naoto\\anaconda3\\lib\\site-packages (from matplotlib) (2.4.6)\nRequirement already satisfied: python-dateutil>=2.1 in c:\\users\\naoto\\anaconda3\\lib\\site-packages (from matplotlib) (2.8.1)\nRequirement already satisfied: setuptools>=41.0.0 in c:\\users\\naoto\\anaconda3\\lib\\site-packages (from tensorboard<2.2.0,>=2.1.0->tensorflow_gpu) (44.0.0.post20200106)\nRequirement already satisfied: google-auth-oauthlib<0.5,>=0.4.1 in c:\\users\\naoto\\anaconda3\\lib\\site-packages (from tensorboard<2.2.0,>=2.1.0->tensorflow_gpu) (0.4.1)\nRequirement already satisfied: requests<3,>=2.21.0 in c:\\users\\naoto\\anaconda3\\lib\\site-packages (from tensorboard<2.2.0,>=2.1.0->tensorflow_gpu) (2.22.0)\nRequirement already satisfied: werkzeug>=0.11.15 in c:\\users\\naoto\\anaconda3\\lib\\site-packages (from tensorboard<2.2.0,>=2.1.0->tensorflow_gpu) (0.16.0)\nRequirement already satisfied: google-auth<2,>=1.6.3 in c:\\users\\naoto\\anaconda3\\lib\\site-packages (from tensorboard<2.2.0,>=2.1.0->tensorflow_gpu) (1.11.2)\nRequirement already satisfied: markdown>=2.6.8 in c:\\users\\naoto\\anaconda3\\lib\\site-packages (from tensorboard<2.2.0,>=2.1.0->tensorflow_gpu) (3.2.1)\nRequirement already satisfied: requests-oauthlib>=0.7.0 in c:\\users\\naoto\\anaconda3\\lib\\site-packages (from google-auth-oauthlib<0.5,>=0.4.1->tensorboard<2.2.0,>=2.1.0->tensorflow_gpu) (1.3.0)\nRequirement already satisfied: certifi>=2017.4.17 in c:\\users\\naoto\\anaconda3\\lib\\site-packages (from requests<3,>=2.21.0->tensorboard<2.2.0,>=2.1.0->tensorflow_gpu) (2019.11.28)\nRequirement already satisfied: chardet<3.1.0,>=3.0.2 in c:\\users\\naoto\\anaconda3\\lib\\site-packages (from requests<3,>=2.21.0->tensorboard<2.2.0,>=2.1.0->tensorflow_gpu) (3.0.4)\nRequirement already satisfied: urllib3!=1.25.0,!=1.25.1,<1.26,>=1.21.1 in c:\\users\\naoto\\anaconda3\\lib\\site-packages (from requests<3,>=2.21.0->tensorboard<2.2.0,>=2.1.0->tensorflow_gpu) (1.25.7)\nRequirement already satisfied: idna<2.9,>=2.5 in c:\\users\\naoto\\anaconda3\\lib\\site-packages (from requests<3,>=2.21.0->tensorboard<2.2.0,>=2.1.0->tensorflow_gpu) (2.8)\nRequirement already satisfied: pyasn1-modules>=0.2.1 in c:\\users\\naoto\\anaconda3\\lib\\site-packages (from google-auth<2,>=1.6.3->tensorboard<2.2.0,>=2.1.0->tensorflow_gpu) (0.2.8)\nRequirement already satisfied: cachetools<5.0,>=2.0.0 in c:\\users\\naoto\\anaconda3\\lib\\site-packages (from google-auth<2,>=1.6.3->tensorboard<2.2.0,>=2.1.0->tensorflow_gpu) (4.0.0)\nRequirement already satisfied: rsa<4.1,>=3.1.4 in c:\\users\\naoto\\anaconda3\\lib\\site-packages (from google-auth<2,>=1.6.3->tensorboard<2.2.0,>=2.1.0->tensorflow_gpu) (4.0)\nRequirement already satisfied: oauthlib>=3.0.0 in c:\\users\\naoto\\anaconda3\\lib\\site-packages (from requests-oauthlib>=0.7.0->google-auth-oauthlib<0.5,>=0.4.1->tensorboard<2.2.0,>=2.1.0->tensorflow_gpu) (3.1.0)\nRequirement already satisfied: pyasn1<0.5.0,>=0.4.6 in c:\\users\\naoto\\anaconda3\\lib\\site-packages (from pyasn1-modules>=0.2.1->google-auth<2,>=1.6.3->tensorboard<2.2.0,>=2.1.0->tensorflow_gpu) (0.4.8)\nNote: you may need to restart the kernel to use updated packages.\n"
    }
   ],
   "source": [
    "pip install tensorflow_gpu keras pillow matplotlib"
   ]
  },
  {
   "cell_type": "code",
   "execution_count": 4,
   "metadata": {},
   "outputs": [
    {
     "ename": "SyntaxError",
     "evalue": "invalid syntax (<ipython-input-4-4bd1d7f529a8>, line 1)",
     "output_type": "error",
     "traceback": [
      "\u001b[1;36m  File \u001b[1;32m\"<ipython-input-4-4bd1d7f529a8>\"\u001b[1;36m, line \u001b[1;32m1\u001b[0m\n\u001b[1;33m    git clone https://github.com/qqwweee/keras-yolo3.git\u001b[0m\n\u001b[1;37m            ^\u001b[0m\n\u001b[1;31mSyntaxError\u001b[0m\u001b[1;31m:\u001b[0m invalid syntax\n"
     ]
    }
   ],
   "source": [
    "git clone https://github.com/qqwweee/keras-yolo3.git"
   ]
  },
  {
   "cell_type": "code",
   "execution_count": 8,
   "metadata": {},
   "outputs": [
    {
     "name": "stdout",
     "output_type": "stream",
     "text": [
      "C:\\Users\\Naoto\\Desktop\\E認定\\keras-yolo3-master\\yolo3\n"
     ]
    }
   ],
   "source": [
    "cd E認定/keras-yolo3-master/yolo3/"
   ]
  },
  {
   "cell_type": "code",
   "execution_count": 9,
   "metadata": {},
   "outputs": [
    {
     "ename": "SyntaxError",
     "evalue": "invalid syntax (<ipython-input-9-08537dfa446b>, line 1)",
     "output_type": "error",
     "traceback": [
      "\u001b[1;36m  File \u001b[1;32m\"<ipython-input-9-08537dfa446b>\"\u001b[1;36m, line \u001b[1;32m1\u001b[0m\n\u001b[1;33m    wget https://pjreddie.com/media/files/yolov3.weights\u001b[0m\n\u001b[1;37m             ^\u001b[0m\n\u001b[1;31mSyntaxError\u001b[0m\u001b[1;31m:\u001b[0m invalid syntax\n"
     ]
    }
   ],
   "source": [
    "wget https://pjreddie.com/media/files/yolov3.weights"
   ]
  },
  {
   "cell_type": "code",
   "execution_count": 11,
   "metadata": {},
   "outputs": [
    {
     "ename": "SyntaxError",
     "evalue": "invalid syntax (<ipython-input-11-4a86a5081e5b>, line 1)",
     "output_type": "error",
     "traceback": [
      "\u001b[1;36m  File \u001b[1;32m\"<ipython-input-11-4a86a5081e5b>\"\u001b[1;36m, line \u001b[1;32m1\u001b[0m\n\u001b[1;33m    py convert.py yolov3.cfg yolov3.weights model_data/yolo.h5\u001b[0m\n\u001b[1;37m             ^\u001b[0m\n\u001b[1;31mSyntaxError\u001b[0m\u001b[1;31m:\u001b[0m invalid syntax\n"
     ]
    }
   ],
   "source": [
    "py convert.py yolov3.cfg yolov3.weights model_data/yolo.h5"
   ]
  }
 ],
 "metadata": {
  "kernelspec": {
   "display_name": "Python 3",
   "language": "python",
   "name": "python3"
  },
  "language_info": {
   "codemirror_mode": {
    "name": "ipython",
    "version": 3
   },
   "file_extension": ".py",
   "mimetype": "text/x-python",
   "name": "python",
   "nbconvert_exporter": "python",
   "pygments_lexer": "ipython3",
   "version": "3.7.2-final"
  }
 },
 "nbformat": 4,
 "nbformat_minor": 2
}