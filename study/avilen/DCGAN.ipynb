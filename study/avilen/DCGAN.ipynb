{
 "cells": [
  {
   "cell_type": "markdown",
   "metadata": {
    "colab_type": "text",
    "id": "5E7EO66FEu1h"
   },
   "source": [
    "本ノートブックでは実際には使っていないコードもオプションの１つとしてコメントアウトして掲載してある。これはGANの学習にはいくつものヒューリスティックスがあり、データセットやネットワークの構造に依存して取捨選択する必要があるためである。つまり、今回の問題設定でうまくいかなかったとしても他の問題設定ではうまくいく可能性が十分にある。"
   ]
  },
  {
   "cell_type": "code",
   "execution_count": 1,
   "metadata": {
    "colab": {},
    "colab_type": "code",
    "id": "2DR7Dck1LLmQ"
   },
   "outputs": [
    {
     "name": "stderr",
     "output_type": "stream",
     "text": [
      "Using TensorFlow backend.\n"
     ]
    },
    {
     "name": "stdout",
     "output_type": "stream",
     "text": [
      "WARNING:tensorflow:From /Users/takuma/anaconda3/envs/dl/lib/python3.7/site-packages/tensorflow/python/framework/op_def_library.py:263: colocate_with (from tensorflow.python.framework.ops) is deprecated and will be removed in a future version.\n",
      "Instructions for updating:\n",
      "Colocations handled automatically by placer.\n"
     ]
    }
   ],
   "source": [
    "import keras\n",
    "from keras import layers\n",
    "import numpy as np\n",
    "\n",
    "latent_dim = 100\n",
    "height = 28\n",
    "width = 28\n",
    "channels = 1\n",
    "\n",
    "#最適化アルゴリズム\n",
    "#学習を安定させるために重みをclip＆weight decayを用いる\n",
    "#識別者の学習ではRMSpropを用いたほうが良いとする事例もある\n",
    "#またlrを非常に小さくする(0.00005以下)場合もある\n",
    "#rmsp = keras.optimizers.RMSprop(lr=0.0008, clipvalue=1.0, decay=1e-8)\n",
    "#識別者用＆敵対者用(DCGAN論文では両方Adam)\n",
    "adam = keras.optimizers.Adam(lr=0.0002, beta_1=0.5, clipvalue=1.0, decay=1e-8)\n",
    "\n",
    "#DC論文ではすべての重みを以下で初期化している\n",
    "init = keras.initializers.RandomNormal(stddev=0.02)\n"
   ]
  },
  {
   "cell_type": "code",
   "execution_count": 2,
   "metadata": {
    "colab": {
     "base_uri": "https://localhost:8080/",
     "height": 472
    },
    "colab_type": "code",
    "executionInfo": {
     "elapsed": 485,
     "status": "ok",
     "timestamp": 1539579226322,
     "user": {
      "displayName": "Issei Sato",
      "photoUrl": "",
      "userId": "10627790293363203453"
     },
     "user_tz": -540
    },
    "id": "Zjsls-anBlM7",
    "outputId": "43ccdb17-4ec3-4118-82fb-72b20f2797b0"
   },
   "outputs": [
    {
     "name": "stdout",
     "output_type": "stream",
     "text": [
      "_________________________________________________________________\n",
      "Layer (type)                 Output Shape              Param #   \n",
      "=================================================================\n",
      "input_1 (InputLayer)         (None, 100)               0         \n",
      "_________________________________________________________________\n",
      "dense_1 (Dense)              (None, 6272)              633472    \n",
      "_________________________________________________________________\n",
      "leaky_re_lu_1 (LeakyReLU)    (None, 6272)              0         \n",
      "_________________________________________________________________\n",
      "reshape_1 (Reshape)          (None, 7, 7, 128)         0         \n",
      "_________________________________________________________________\n",
      "conv2d_transpose_1 (Conv2DTr (None, 14, 14, 64)        131136    \n",
      "_________________________________________________________________\n",
      "leaky_re_lu_2 (LeakyReLU)    (None, 14, 14, 64)        0         \n",
      "_________________________________________________________________\n",
      "conv2d_transpose_2 (Conv2DTr (None, 28, 28, 64)        65600     \n",
      "_________________________________________________________________\n",
      "leaky_re_lu_3 (LeakyReLU)    (None, 28, 28, 64)        0         \n",
      "_________________________________________________________________\n",
      "conv2d_1 (Conv2D)            (None, 28, 28, 1)         1601      \n",
      "=================================================================\n",
      "Total params: 831,809\n",
      "Trainable params: 831,809\n",
      "Non-trainable params: 0\n",
      "_________________________________________________________________\n"
     ]
    }
   ],
   "source": [
    "#生成ネットワーク\n",
    "generator_input = keras.Input(shape=(latent_dim,))\n",
    "\n",
    "#潜在変数を7x7 128-channels 特徴マップへ変換\n",
    "x = layers.Dense(128 * 7 * 7,kernel_initializer=init)(generator_input)\n",
    "#この実装では生成ネットワークの活性化関数にLeakyReLUを用いるが\n",
    "#代わりに以下のBatchNormalization＋LeRUを使う場合もある\n",
    "#x = layers.BatchNormalization()(x)\n",
    "#x = layers.Activation('relu')(x)\n",
    "x = layers.LeakyReLU(0.2)(x)\n",
    "x = layers.Reshape((7, 7, 128))(x)\n",
    "\n",
    "#7x7 128-channelsを14x14 64-channelsの特徴マップへDeconvolutionで変換\n",
    "#ストライドサイズで割り切れるカーネルサイズを使う\n",
    "x = layers.Conv2DTranspose(64, 4, strides=2, padding='same')(x)\n",
    "#x = layers.BatchNormalization()(x)\n",
    "#x = layers.Activation('relu')(x)\n",
    "x = layers.LeakyReLU(0.2)(x)\n",
    "\n",
    "#14x14 64-channelsを28x28 64-channelsの特徴マップへDeconvolutionで変換\n",
    "#ストライドサイズで割り切れるカーネルサイズを使う\n",
    "x = layers.Conv2DTranspose(64, 4, strides=2, padding='same')(x)\n",
    "#x = layers.BatchNormalization()(x)\n",
    "#x = layers.Activation('relu')(x)\n",
    "x = layers.LeakyReLU(0.2)(x)\n",
    "\n",
    "\n",
    "#28x28 64-channelsを28x28 1-channelsの特徴マップへ変換\n",
    "#最後の出力の活性化関数はtanhを使う\n",
    "x = layers.Conv2D(channels, 5, activation='tanh', padding='same')(x)\n",
    "generator = keras.models.Model(generator_input, x)\n",
    "generator.summary()"
   ]
  },
  {
   "cell_type": "code",
   "execution_count": 3,
   "metadata": {
    "colab": {
     "base_uri": "https://localhost:8080/",
     "height": 582
    },
    "colab_type": "code",
    "executionInfo": {
     "elapsed": 524,
     "status": "ok",
     "timestamp": 1539579231561,
     "user": {
      "displayName": "Issei Sato",
      "photoUrl": "",
      "userId": "10627790293363203453"
     },
     "user_tz": -540
    },
    "id": "M8h7TsvfLf0u",
    "outputId": "09d9e4c2-3bc4-4b30-e8f3-49e622aa2313"
   },
   "outputs": [
    {
     "name": "stdout",
     "output_type": "stream",
     "text": [
      "WARNING:tensorflow:From /Users/takuma/anaconda3/envs/dl/lib/python3.7/site-packages/keras/backend/tensorflow_backend.py:3445: calling dropout (from tensorflow.python.ops.nn_ops) with keep_prob is deprecated and will be removed in a future version.\n",
      "Instructions for updating:\n",
      "Please use `rate` instead of `keep_prob`. Rate should be set to `rate = 1 - keep_prob`.\n",
      "_________________________________________________________________\n",
      "Layer (type)                 Output Shape              Param #   \n",
      "=================================================================\n",
      "input_2 (InputLayer)         (None, 28, 28, 1)         0         \n",
      "_________________________________________________________________\n",
      "conv2d_2 (Conv2D)            (None, 14, 14, 64)        1664      \n",
      "_________________________________________________________________\n",
      "leaky_re_lu_4 (LeakyReLU)    (None, 14, 14, 64)        0         \n",
      "_________________________________________________________________\n",
      "dropout_1 (Dropout)          (None, 14, 14, 64)        0         \n",
      "_________________________________________________________________\n",
      "conv2d_3 (Conv2D)            (None, 7, 7, 128)         204928    \n",
      "_________________________________________________________________\n",
      "leaky_re_lu_5 (LeakyReLU)    (None, 7, 7, 128)         0         \n",
      "_________________________________________________________________\n",
      "dropout_2 (Dropout)          (None, 7, 7, 128)         0         \n",
      "_________________________________________________________________\n",
      "conv2d_4 (Conv2D)            (None, 4, 4, 256)         819456    \n",
      "_________________________________________________________________\n",
      "leaky_re_lu_6 (LeakyReLU)    (None, 4, 4, 256)         0         \n",
      "_________________________________________________________________\n",
      "dropout_3 (Dropout)          (None, 4, 4, 256)         0         \n",
      "_________________________________________________________________\n",
      "global_average_pooling2d_1 ( (None, 256)               0         \n",
      "_________________________________________________________________\n",
      "dense_2 (Dense)              (None, 1)                 257       \n",
      "=================================================================\n",
      "Total params: 1,026,305\n",
      "Trainable params: 1,026,305\n",
      "Non-trainable params: 0\n",
      "_________________________________________________________________\n"
     ]
    }
   ],
   "source": [
    "#識別ネットワーク\n",
    "#LeakyReLU、Dropout、GlobalAveragedPoolingを使うのがポイント\n",
    "discriminator_input = layers.Input(shape=(height, width, channels))\n",
    "x = layers.Conv2D(64, 5, strides=2,padding='same',kernel_initializer=init)(discriminator_input)\n",
    "x = layers.LeakyReLU(0.2)(x)\n",
    "x = layers.Dropout(0.3)(x)\n",
    "x = layers.Conv2D(128, 5, strides=2,padding='same')(x)\n",
    "x = layers.LeakyReLU(0.2)(x)\n",
    "x = layers.Dropout(0.3)(x)\n",
    "x = layers.Conv2D(256, 5, strides=2,padding='same')(x)\n",
    "x = layers.LeakyReLU(0.2)(x)\n",
    "x = layers.Dropout(0.3)(x)\n",
    "x = layers.GlobalAveragePooling2D()(x)\n",
    "x = layers.Dense(1, activation='sigmoid')(x)\n",
    "\n",
    "discriminator = keras.models.Model(discriminator_input, x)\n",
    "discriminator.summary()\n",
    "\n",
    "\n",
    "discriminator_optimizer  = adam\n",
    "discriminator.compile(optimizer=discriminator_optimizer, loss='binary_crossentropy')"
   ]
  },
  {
   "cell_type": "code",
   "execution_count": 4,
   "metadata": {
    "colab": {},
    "colab_type": "code",
    "id": "x27Dn3hpLk_C"
   },
   "outputs": [],
   "source": [
    "#敵対的ネットワーク\n",
    "\n",
    "#識別ネットワークの学習を止めて\n",
    "discriminator.trainable = False\n",
    "#生成ネットワークの学習をする\n",
    "gan_input = keras.Input(shape=(latent_dim,))\n",
    "gan_output = discriminator(generator(gan_input))\n",
    "gan = keras.models.Model(gan_input, gan_output)\n",
    "\n",
    "gan_optimizer = adam \n",
    "gan.compile(optimizer=gan_optimizer, loss='binary_crossentropy')"
   ]
  },
  {
   "cell_type": "code",
   "execution_count": null,
   "metadata": {
    "colab": {
     "base_uri": "https://localhost:8080/",
     "height": 583
    },
    "colab_type": "code",
    "executionInfo": {
     "elapsed": 319076,
     "status": "ok",
     "timestamp": 1539579557022,
     "user": {
      "displayName": "Issei Sato",
      "photoUrl": "",
      "userId": "10627790293363203453"
     },
     "user_tz": -540
    },
    "id": "PP-0AA0DLrLp",
    "outputId": "c6beafc1-e645-4176-88b4-65dda7356a04"
   },
   "outputs": [
    {
     "name": "stdout",
     "output_type": "stream",
     "text": [
      "Epochs: 5\n",
      "Batch size: 4\n",
      "Batches per epoch: 15000.0\n",
      "--------------- Epoch 1 ---------------\n",
      "\r",
      "0% []"
     ]
    }
   ],
   "source": [
    "import os\n",
    "from keras.preprocessing import image\n",
    "from keras.datasets import mnist\n",
    "from tqdm import tqdm\n",
    "\n",
    "# MNIST dataのロード\n",
    "(x_train, _), (x_test, y_test) = mnist.load_data()\n",
    "\n",
    "\n",
    "#各ピクセルが[0,1]の値を取るように正規化\n",
    "#x_train = x_train.astype('float32') / 255.\n",
    "#x_train = x_train.reshape(x_train.shape + (1,))\n",
    "#x_test = x_test.astype('float32') / 255.\n",
    "#x_test = x_test.reshape(x_test.shape + (1,))\n",
    "\n",
    "#生成者の出力をtanhとしたので\n",
    "#各ピクセルが[-1,1]の値を取るように正規化\n",
    "x_train = (x_train.astype('float32')-127.5)/ 127.5\n",
    "x_train = x_train.reshape(x_train.shape + (1,))\n",
    "x_test = (x_test.astype('float32')-127.5)/ 127.5\n",
    "x_test = x_test.reshape(x_test.shape + (1,))\n",
    "\n",
    "#DCGAN論文で使われているバッチ数を使う\n",
    "batch_size = 128\n",
    "\n",
    "\n",
    "epochs=5\n",
    "batchSize=batch_size\n",
    "batchCount = x_train.shape[0] / batchSize\n",
    "print ('Epochs:', epochs)\n",
    "print ('Batch size:', batchSize)\n",
    "print ('Batches per epoch:', batchCount)\n",
    "\n",
    "# 学習のループ\n",
    "for e in range(1, epochs+1):\n",
    "    print('-'*15, 'Epoch %d' % e, '-'*15) \n",
    "    #tqdmを使うとプログレスバーが出るがColabだと不安定なので別で代用する\n",
    "    #for _ in tqdm(range(int(batchCount))): \n",
    "    for i in range(int(batchCount)):\n",
    "        print(\"\\r{0}% [{1}]\".format(int(i/(batchCount-1)*100), \"*\" * int((i+1)/batchCount*50)), end=\"\")\n",
    "        # 潜在空間からランダムにサンプリング\n",
    "        random_latent_vectors = np.random.normal(size=(batch_size, latent_dim))\n",
    "\n",
    "        # データを生成する\n",
    "        generated_images = generator.predict(random_latent_vectors)\n",
    "\n",
    "        # 観測データと生成データを識別するための入力データをつくる\n",
    "        real_images = x_train[np.random.randint(0, x_train.shape[0], size=batchSize)]\n",
    "        combined_images = np.concatenate([generated_images, real_images])\n",
    "\n",
    "        # 観測データ(0)と生成データ(1)を識別するラベルをつくる\n",
    "        labels = np.concatenate([np.ones((batch_size, 1)),\n",
    "                             np.zeros((batch_size, 1))])\n",
    "        \n",
    "        # ランダムなノイズを加える\n",
    "        # ラベルを1ではなく0.7-1.2, 0を0-0.3のようなソフトラベルにすることもある\n",
    "        #labels += 0.05 * np.random.random(labels.shape)\n",
    "        labels *= 0.9\n",
    "\n",
    "\n",
    "        #識別ネットワークの学習\n",
    "        d_loss = discriminator.train_on_batch(combined_images, labels)\n",
    "\n",
    "        #潜在空間からサンプリング\n",
    "        random_latent_vectors = np.random.normal(size=(batch_size, latent_dim))\n",
    "\n",
    "        # すべてリアルなデータだと騙すためのラベル(y=0)を生成\n",
    "        misleading_targets = np.zeros((batch_size, 1))\n",
    "\n",
    "        # 生成ネットワークの学習\n",
    "        # min -y*log(D(G(z)))\n",
    "        a_loss = gan.train_on_batch(random_latent_vectors, misleading_targets)\n",
    "        if i==int(batchCount)-1 :\n",
    "            print(\"\\n\") \n",
    "            print('discriminator loss: %s' % (d_loss))\n",
    "            print('adversarial loss  : %s' % (a_loss))\n",
    "        \n",
    "      "
   ]
  },
  {
   "cell_type": "code",
   "execution_count": null,
   "metadata": {},
   "outputs": [],
   "source": []
  },
  {
   "cell_type": "code",
   "execution_count": null,
   "metadata": {
    "colab": {
     "base_uri": "https://localhost:8080/",
     "height": 745
    },
    "colab_type": "code",
    "executionInfo": {
     "elapsed": 7088,
     "status": "ok",
     "timestamp": 1539580893134,
     "user": {
      "displayName": "Issei Sato",
      "photoUrl": "",
      "userId": "10627790293363203453"
     },
     "user_tz": -540
    },
    "id": "HIiC435JnlNu",
    "outputId": "4edbd51c-3c11-4f93-f875-0bf4bcf72323"
   },
   "outputs": [],
   "source": [
    "import matplotlib.pyplot as plt\n",
    "#表示するサンプル数\n",
    "examples=100\n",
    "#潜在空間からサンプリング\n",
    "noise = np.random.normal(0, 1, size=[examples, latent_dim])\n",
    "#画像を生成\n",
    "generatedImages = generator.predict(noise)\n",
    "#画像を描画\n",
    "dim=(10, 10)\n",
    "plt.figure(figsize=(10, 10))\n",
    "for i in range(generatedImages.shape[0]):\n",
    "    plt.subplot(dim[0], dim[1], i+1)\n",
    "    plt.imshow(generatedImages[i].reshape(height, width), interpolation='nearest', cmap='gray')\n",
    "    plt.axis('off')\n",
    "plt.tight_layout()\n",
    "#plt.savefig('./dcgan_generated_image_epoch_%d.png' % epoch)"
   ]
  }
 ],
 "metadata": {
  "accelerator": "GPU",
  "colab": {
   "collapsed_sections": [],
   "name": "DCGAN.ipynb",
   "provenance": [],
   "version": "0.3.2"
  },
  "kernelspec": {
   "display_name": "Python 3",
   "language": "python",
   "name": "python3"
  },
  "language_info": {
   "codemirror_mode": {
    "name": "ipython",
    "version": 3
   },
   "file_extension": ".py",
   "mimetype": "text/x-python",
   "name": "python",
   "nbconvert_exporter": "python",
   "pygments_lexer": "ipython3",
   "version": "3.7.3"
  }
 },
 "nbformat": 4,
 "nbformat_minor": 1
}
