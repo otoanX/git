{
 "nbformat": 4,
 "nbformat_minor": 2,
 "metadata": {
  "language_info": {
   "name": "python",
   "codemirror_mode": {
    "name": "ipython",
    "version": 3
   },
   "version": "3.7.7-final"
  },
  "orig_nbformat": 2,
  "file_extension": ".py",
  "mimetype": "text/x-python",
  "name": "python",
  "npconvert_exporter": "python",
  "pygments_lexer": "ipython3",
  "version": 3,
  "kernelspec": {
   "name": "python37264bitd71899452d51494c8c44d23ddbe92cc3",
   "display_name": "Python 3.7.2 64-bit"
  }
 },
 "cells": [
  {
   "cell_type": "markdown",
   "metadata": {},
   "source": [
    "# 初めに\n",
    "Markdownモードは、ESC→M で変更できます。変更後、Alt+Enter で確定。  \n",
    "セル左上の▷MLをクリックして\\{\\}にしてもOKっぽい。  \n",
    "$$\n",
    "\\frac{1}{2}\n",
    "$$\n",
    "kerasを使った実装関係。  \n",
    "VAEをkerasで実装  \n",
    "https://qiita.com/iss-f/items/c43b23815fc6d15ae22e  \n",
    "【Python】 VAE(Variational Auto Encoder)の写経  \n",
    "http://ni4muraano.hatenablog.com/entry/2018/01/02/220000  \n",
    "Variational Autoencoder徹底解説  \n",
    "https://qiita.com/kenmatsu4/items/b029d697e9995d93aa24  "
   ]
  },
  {
   "cell_type": "code",
   "execution_count": 1,
   "metadata": {},
   "outputs": [],
   "source": [
    "### エンコーダ(平均と分散を出力する簡単なモデル)\n",
    "### 入力次元・出力次元はあらかじめ設定しておく\n",
    "def build_encoder(self):\n",
    "    x = Input(shape=(original_dim, ))\n",
    "\n",
    "    hidden = Dense(intermediate_dim, activation='relu')(x)\n",
    "    z_mean = Dense(latent_dim, activation='linear')(hidden)\n",
    "    z_sigma = Dense(latent_dim, activation='linear')(hidden)\n",
    "    return Model(x, [z_mean, z_sigma])"
   ]
  },
  {
   "cell_type": "code",
   "execution_count": 2,
   "metadata": {},
   "outputs": [],
   "source": [
    "### デコーダ\n",
    "def build_decoder(self):\n",
    "    z_mean = Input(shape=(latent_dim ))\n",
    "    z_sigma = Input(shape=(latent_dim, ))\n",
    "    z = Lambda(self.sampling, output_shape=(latent_dim))([z_mean, z_sigma])  #Kerasのカスタムレイヤー\n",
    "    h_decoded = Dense(intermediate_dim, activation='relu')(z)\n",
    "    x_decoded_mean = Dense(original_dim, activation='sigmoid')(h_decoded)\n",
    "\n",
    "    return Model([z_mean, z_sigma], x_decoded_mean)\n",
    "\n",
    "def sampling(self, args):\n",
    "    z_mean, z_sigma = args\n",
    "    epsilon = K.random_normal(shape=(self.z_dim,), mean=0., stddev=epsilon_std)\n",
    "    return z_mean + z_sigma * epsilon"
   ]
  },
  {
   "cell_type": "code",
   "execution_count": 3,
   "metadata": {},
   "outputs": [],
   "source": [
    "    def build_vae(self, encoder, decoder):\n",
    "        _, encoder_dense, encoder_mean, encoder_sigma = encoder.layers\n",
    "\n",
    "        x = Input(shape=(self.input_dim, ))\n",
    "        hidden = encoder_dense(x)\n",
    "        z_mean = encoder_mean(hidden)\n",
    "        z_sigma = encoder_sigma(hidden)\n",
    "\n",
    "        self.z_m = z_mean # 損失関数で使う\n",
    "        self.z_s = z_sigma # 損失関数で使う\n",
    "\n",
    "        _, _, decoder_lambda, decoder_dense1, decoder_dense2 = decoder.layers\n",
    "        z = decoder_lambda([z_mean, z_sigma])\n",
    "        h_decoded = decoder_dense1(z)\n",
    "        x_decoded_mean = decoder_dense2(h_decoded)\n",
    "        return Model(x, x_decoded_mean)"
   ]
  },
  {
   "cell_type": "code",
   "execution_count": 4,
   "metadata": {},
   "outputs": [
    {
     "output_type": "error",
     "ename": "SyntaxError",
     "evalue": "invalid character in identifier (<ipython-input-4-9e9dafb6cf2d>, line 15)",
     "traceback": [
      "\u001b[1;36m  File \u001b[1;32m\"<ipython-input-4-9e9dafb6cf2d>\"\u001b[1;36m, line \u001b[1;32m15\u001b[0m\n\u001b[1;33m    return latent_loss　+ reconst_loss\u001b[0m\n\u001b[1;37m                      ^\u001b[0m\n\u001b[1;31mSyntaxError\u001b[0m\u001b[1;31m:\u001b[0m invalid character in identifier\n"
     ]
    }
   ],
   "source": [
    "### 損失関数\n",
    "def binary_crossentropy(self, y_true, y_pred):\n",
    "    return K.sum(K.binary_crossentropy(y_pred, y_true), axis=-1)\n",
    "\n",
    "\n",
    "def vae_loss(self, x, x_decoded_mean):\n",
    "    z_mean = self.z_m\n",
    "    z_sigma = self.z_s\n",
    "\n",
    "    # 1項目の計算\n",
    "    latent_loss =  - 0.5 * K.mean(K.sum(1 + K.log(K.square(z_sigma)) - K.square(z_mean) - K.square(z_sigma), axis=-1))\n",
    "    # 2項目の計算\n",
    "    reconst_loss = K.mean(self.binary_crossentropy(x, x_decoded_mean),axis=-1)\n",
    "\n",
    "    return latent_loss　+ reconst_loss\n",
    "\n",
    "def model_compile(self, model):\n",
    "    model.compile(optimizer='rmsprop', loss=self.vae_loss)"
   ]
  },
  {
   "cell_type": "code",
   "execution_count": null,
   "metadata": {},
   "outputs": [],
   "source": []
  }
 ]
}