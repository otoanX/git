{
 "cells": [
  {
   "cell_type": "markdown",
   "metadata": {
    "colab_type": "text",
    "id": "5E7EO66FEu1h"
   },
   "source": [
    "# 全人類がわかるディープラーニング Day6演習\n",
    "## 概要\n",
    "本演習では以下の３つのモデルの実装ファイルに基づいた問題を出題する。\n",
    "\n",
    "- \"VAE.ipynb\"：kerasを用いたVAEによるmnist手書き文字生成の実装\n",
    "- \"DCGAN.ipynb\"：kerasを用いたDCGANによるmnist手書き文字生成の実装\n",
    "- '\"gomoku/learn.ipynb\"'：tensorflowを用いた五目並べの強化学習の実装\n",
    "\n",
    "いずれについても、全体の流れを確認した上で本演習を解答してください。\n",
    "\n",
    "なお、予め用意されたコード（はそのまま使用し、指示された穴埋め部を編集してください。<br>\n",
    "演習問題は全12問です。解答が必要な部分は######と表記されています。<br>\n",
    "最後まで実行されることを確認して提出してください。<br>\n",
    "最後にそれぞれの問題が正しいかチェックすることが可能です。<br>\n",
    "問題文の意味がわからない、実行エラーが直らない場合はご相談ください。\n",
    "\n",
    "所要時間：1~2時間\n",
    "\n",
    "なお、VAE、DCGAN、強化学習の**pythonによる実装**はE資格の試験範囲には含まれない。(2020/8以降は不明)"
   ]
  },
  {
   "cell_type": "code",
   "execution_count": 1,
   "metadata": {
    "colab": {},
    "colab_type": "code",
    "id": "ppFK4X4gA6Xd"
   },
   "outputs": [],
   "source": [
    "# ライブラリのインポート\n",
    "import numpy as np\n",
    "\n",
    "# 乱数シードを指定\n",
    "np.random.seed(seed=0)"
   ]
  },
  {
   "cell_type": "markdown",
   "metadata": {
    "colab_type": "text",
    "id": "z8lHhoEQ9I7s"
   },
   "source": [
    "## 1.VAE\n",
    "\n",
    "### 問1-1\n",
    "\n",
    "encoderの入力の形状(shape)を配列で答えなさい。ただし、入力画像は一枚とし、バッチは考慮しない（以下同様）。\n",
    "ヒント：\n",
    "```\n",
    "# エンコーダー(画像→潜在変数)\n",
    "input_img = keras.Input(shape=img_shape)\n",
    "\n",
    "```\n",
    "答え方の例：\n",
    "```\n",
    "encoder_dim = [100, 2]\n",
    "```"
   ]
  },
  {
   "cell_type": "code",
   "execution_count": 2,
   "metadata": {
    "colab": {},
    "colab_type": "code",
    "id": "nvJQ2Ts4_xBh"
   },
   "outputs": [],
   "source": [
    "encoder_dim = [28,28,1]######"
   ]
  },
  {
   "cell_type": "markdown",
   "metadata": {
    "colab_type": "text",
    "id": "u1abY9RxAn7i"
   },
   "source": [
    "### 問1-2\n",
    "\n",
    "zの形状(shape)を配列で答えなさい。ヒント：\n",
    "```\n",
    "z = layers.Lambda(sampling)([z_mean, z_log_var])\n",
    "```"
   ]
  },
  {
   "cell_type": "code",
   "execution_count": 3,
   "metadata": {
    "colab": {},
    "colab_type": "code",
    "id": "IowKELCsADH4"
   },
   "outputs": [],
   "source": [
    "z_shape = [2]######"
   ]
  },
  {
   "cell_type": "markdown",
   "metadata": {
    "colab_type": "text",
    "id": "S21L9IbZB-7X"
   },
   "source": [
    "### 問1-3\n",
    "z_mean = [0, 1], z_log_var = [-0.1, 0.1]のとき、ランダムなzを一つ出力せよ。ヒント：\n",
    "\n",
    "```\n",
    "def sampling(args):\n",
    "    z_mean, z_log_var = args\n",
    "    epsilon = K.random_normal(shape=(K.shape(z_mean)[0], latent_dim),\n",
    "                              mean=0., stddev=1.) # Kerasでは一貫して最初の次元がサンプル数(バッチサイズ)\n",
    "    return z_mean + K.exp(0.5*z_log_var) * epsilon\n",
    "```\n",
    "numpyでガウス分布を出力する関数を使用します。"
   ]
  },
  {
   "cell_type": "code",
   "execution_count": 4,
   "metadata": {
    "colab": {},
    "colab_type": "code",
    "id": "1DEfDINHA4Ns"
   },
   "outputs": [
    {
     "name": "stdout",
     "output_type": "stream",
     "text": [
      "[1.6780185  1.42067371]\n"
     ]
    }
   ],
   "source": [
    "def sampling(args):\n",
    "  z_mean, z_log_var = args\n",
    "  epsilon = np.random.normal(loc=0,scale=1.0,size=2)######)\n",
    "  return z_mean+np.exp(0.5*z_log_var)*epsilon######\n",
    "\n",
    "z_mean = np.array([0, 1])\n",
    "z_log_var = np.array([-0.1, 0.1])\n",
    "z = sampling([z_mean, z_log_var])\n",
    "print(z)"
   ]
  },
  {
   "cell_type": "markdown",
   "metadata": {
    "colab_type": "text",
    "id": "vIyZmDmvCMrf"
   },
   "source": [
    "### 問1-4\n",
    "\n",
    "z_decodedの形状(shape)を配列で答えなさい。ヒント：\n",
    "```\n",
    "# 潜在空間のzをデコードしたz_decodedを定義\n",
    "z_decoded = decoder(z)\n",
    "```"
   ]
  },
  {
   "cell_type": "code",
   "execution_count": 5,
   "metadata": {
    "colab": {},
    "colab_type": "code",
    "id": "uhdj4jpzCLi4"
   },
   "outputs": [],
   "source": [
    "z_decoded_shape = [28,28,1]######"
   ]
  },
  {
   "cell_type": "markdown",
   "metadata": {
    "colab_type": "text",
    "id": "j9WQkdDtEK1q"
   },
   "source": [
    "## 2.DCGAN\n",
    "\n",
    "### 問2-1\n",
    "\n",
    "生成器の入力の形状(shape)を配列で答えなさい。ただし、入力画像は一枚とし、バッチは考慮しない（以下同様）。ヒント：\n",
    "```\n",
    "generator_input = keras.Input(shape=(latent_dim,))\n",
    "```"
   ]
  },
  {
   "cell_type": "code",
   "execution_count": 6,
   "metadata": {
    "colab": {},
    "colab_type": "code",
    "id": "OJfh3SVkEPF2"
   },
   "outputs": [],
   "source": [
    "generator_input_shape = [100]######"
   ]
  },
  {
   "cell_type": "markdown",
   "metadata": {
    "colab_type": "text",
    "id": "_zJ17IehEpY6"
   },
   "source": [
    "### 問2-2\n",
    "\n",
    "生成器の出力の形状(shape)を配列で答えなさい。ヒント：\n",
    "```\n",
    "#28x28 64-channelsを28x28 1-channelsの特徴マップへ変換\n",
    "#最後の出力の活性化関数はtanhを使う\n",
    "x = layers.Conv2D(channels, 5, activation='tanh', padding='same')(x)\n",
    "generator = keras.models.Model(generator_input, x)\n",
    "```"
   ]
  },
  {
   "cell_type": "code",
   "execution_count": 7,
   "metadata": {
    "colab": {},
    "colab_type": "code",
    "id": "bCXtxNTKEo1r"
   },
   "outputs": [],
   "source": [
    "generator_output_shape = [28,28,1]######"
   ]
  },
  {
   "cell_type": "markdown",
   "metadata": {
    "colab_type": "text",
    "id": "BzLXpV_FE-rb"
   },
   "source": [
    "### 問2-3\n",
    "\n",
    "識別器の入力の形状(shape)を配列で答えなさい。ヒント：\n",
    "```\n",
    "discriminator_input = layers.Input(shape=(height, width, channels))\n",
    "```"
   ]
  },
  {
   "cell_type": "code",
   "execution_count": 8,
   "metadata": {
    "colab": {},
    "colab_type": "code",
    "id": "w0hEc2vMFWO5"
   },
   "outputs": [],
   "source": [
    "discriminator_input_shape = [28,28,1]######"
   ]
  },
  {
   "cell_type": "markdown",
   "metadata": {
    "colab_type": "text",
    "id": "rNbMX2e6FatY"
   },
   "source": [
    "### 問2-4\n",
    "\n",
    "識別器の出力の形状(shape)を配列で答えなさい。ヒント：\n",
    "```\n",
    "...\n",
    "x = layers.GlobalAveragePooling2D()(x)\n",
    "x = layers.Dense(1, activation='sigmoid')(x)\n",
    "\n",
    "discriminator = keras.models.Model(discriminator_input, x)\n",
    "```"
   ]
  },
  {
   "cell_type": "code",
   "execution_count": 9,
   "metadata": {
    "colab": {},
    "colab_type": "code",
    "id": "VXH4QjVxFkRN"
   },
   "outputs": [],
   "source": [
    "discriminator_output_shape = [1]######"
   ]
  },
  {
   "cell_type": "markdown",
   "metadata": {
    "colab_type": "text",
    "id": "VgC7N4UFF25e"
   },
   "source": [
    "### 問2-5\n",
    "\n",
    "生成器の学習時変数gan_outputの形状(shape)を配列で答えなさい。ヒント：\n",
    "```\n",
    "gan_output = discriminator(generator(gan_input))\n",
    "```"
   ]
  },
  {
   "cell_type": "code",
   "execution_count": 10,
   "metadata": {
    "colab": {},
    "colab_type": "code",
    "id": "V7-9CBJpFo0A"
   },
   "outputs": [],
   "source": [
    "gan_output_shape = [1]######"
   ]
  },
  {
   "cell_type": "markdown",
   "metadata": {
    "colab_type": "text",
    "id": "Xhzz78YBOyYw"
   },
   "source": [
    "## 3.強化学習\n",
    "\n",
    "### 問3-1\n",
    "\n",
    "value_networkの入力の形状(shape)を配列で答えなさい。ただし、入力盤面は一つとし、バッチは考慮しない（以下同様）。ヒント：gomoku/value_network.py\n",
    "```\n",
    "x_image = tf.reshape(x, [-1, size, size, 2])    # [None, size, size, 2]\n",
    "```"
   ]
  },
  {
   "cell_type": "code",
   "execution_count": 11,
   "metadata": {
    "colab": {},
    "colab_type": "code",
    "id": "Aocb9LecPDPU"
   },
   "outputs": [],
   "source": [
    "x_image_shape = [9,9,2]######"
   ]
  },
  {
   "cell_type": "markdown",
   "metadata": {
    "colab_type": "text",
    "id": "mTcmB0NfPPQX"
   },
   "source": [
    "\n",
    "### 問3-2\n",
    "\n",
    "黒が勝利したとき、初期盤面(黒手番)の報酬を答えなさい(スカラー値)。ヒント：gomoku/learn.py\n",
    "```\n",
    "# 報酬（黒勝利：1.0, 白勝利：-1.0, 引き分け：0）\n",
    "q_value = [0.0] if win is 0 else [1.0] if win is 1 else [-1.0]\n",
    "```"
   ]
  },
  {
   "cell_type": "code",
   "execution_count": 12,
   "metadata": {
    "colab": {},
    "colab_type": "code",
    "id": "mwxyuoiMPIjv"
   },
   "outputs": [],
   "source": [
    "value = 1.0######"
   ]
  },
  {
   "cell_type": "markdown",
   "metadata": {
    "colab_type": "text",
    "id": "UYIKVKyCPhUe"
   },
   "source": [
    "\n",
    "### 問3-3\n",
    "\n",
    "探索された盤面から、AIによる着手を選択するとき、常に評価値valueが最大となる盤面を選択するのではなく、評価値に応じて確率的盤面を選択している。\n",
    "\n",
    "強化学習においてこの行動を選択する方策はさまざまなものが存在するが、ここではソフトマックス法を使用している。\n",
    "\n",
    "温度をTとし、３つの盤面の評価が以下の配列vで表されるとき、それぞれが選択される確率配列をnp.ndarrayで出力せよ。"
   ]
  },
  {
   "cell_type": "code",
   "execution_count": 13,
   "metadata": {
    "colab": {},
    "colab_type": "code",
    "id": "HwNHrhZCPb0L"
   },
   "outputs": [
    {
     "name": "stdout",
     "output_type": "stream",
     "text": [
      "[1.22097726e-05 2.68938138e-01 7.31049653e-01]\n"
     ]
    }
   ],
   "source": [
    "v = np.array([-1, 0, 0.1])\n",
    "t = 0.1\n",
    "\n",
    "def softmax(x, T):\n",
    "    u = np.sum(np.exp(x/T))######\n",
    "    return np.exp(x/T)/u######\n",
    "\n",
    "p = softmax(v, t)\n",
    "print(p)"
   ]
  },
  {
   "cell_type": "markdown",
   "metadata": {
    "colab_type": "text",
    "id": "sSQsL_7LSFtt"
   },
   "source": [
    "## 正誤チェック\n",
    "\n",
    "以下は自動正誤チェックになります。最後まで実行して回答が正しいかをチェックしてください。<br>\n",
    "※ コードを変更しないでください。"
   ]
  },
  {
   "cell_type": "code",
   "execution_count": 14,
   "metadata": {
    "colab": {},
    "colab_type": "code",
    "id": "1IkKMMjsSLi2"
   },
   "outputs": [
    {
     "name": "stdout",
     "output_type": "stream",
     "text": [
      "問題\t正誤\tあなたの回答\n",
      "--------------------------------------\n",
      "問1-1 \t正解\t [28, 28, 1]\n",
      "問1-2 \t正解\t [2]\n",
      "問1-3 \t正解\t [1.6780185  1.42067371]\n",
      "問1-4 \t正解\t [28, 28, 1]\n",
      "問2-1 \t正解\t [100]\n",
      "問2-2 \t正解\t [28, 28, 1]\n",
      "問2-3 \t正解\t [28, 28, 1]\n",
      "問2-4 \t正解\t [1]\n",
      "問2-5 \t正解\t [1]\n",
      "問3-1 \t正解\t [9, 9, 2]\n",
      "問3-2 \t正解\t 1.0\n",
      "問3-3 \t正解\t [1.22097726e-05 2.68938138e-01 7.31049653e-01]\n",
      "\n",
      "全問正解です。このファイルを提出してください。\n"
     ]
    }
   ],
   "source": [
    "answers = {\n",
    "    '問1-1': encoder_dim, \n",
    "    '問1-2': z_shape,\n",
    "    '問1-3': z,\n",
    "    '問1-4': z_decoded_shape,\n",
    "    '問2-1': generator_input_shape,\n",
    "    '問2-2': generator_output_shape,\n",
    "    '問2-3': discriminator_input_shape,\n",
    "    '問2-4': discriminator_output_shape,\n",
    "    '問2-5': gan_output_shape,\n",
    "    '問3-1': x_image_shape,\n",
    "    '問3-2': value, \n",
    "    '問3-3': p\n",
    "}\n",
    "# ハッシュ化\n",
    "import hashlib\n",
    "right_answers = {\"\\u554f1-1\": \"4537c50f8e7d34885e1b358138252bfe\", \"\\u554f1-2\": \"beb4dbf9af069aa2df7b147229965085\", \"\\u554f1-3\": \"0f0844189a7150d422ea84cfb4b1557a\", \"\\u554f1-4\": \"4537c50f8e7d34885e1b358138252bfe\", \"\\u554f2-1\": \"5dd14615efeb2d086e519ed35efd3f73\", \"\\u554f2-2\": \"4537c50f8e7d34885e1b358138252bfe\", \"\\u554f2-3\": \"4537c50f8e7d34885e1b358138252bfe\", \"\\u554f2-4\": \"35dba5d75538a9bbe0b4da4422759a0e\", \"\\u554f2-5\": \"35dba5d75538a9bbe0b4da4422759a0e\", \"\\u554f3-1\": \"a6a31c4ce00ea3068fdd889ef96586ef\", \"\\u554f3-2\": \"e4c2e8edac362acab7123654b9e73432\", \"\\u554f3-3\": \"f1a80f9732fbda36a19909aad40214e0\"}\n",
    "complete = True\n",
    "print('問題\\t正誤\\tあなたの回答')\n",
    "print('--------------------------------------')\n",
    "for key in answers:\n",
    "    if right_answers[key] == hashlib.md5(str(answers[key]).encode('utf-8')).hexdigest():\n",
    "        print(key, '\\t正解\\t', answers[key])\n",
    "    else:\n",
    "        print(key, '\\t不正解\\t', answers[key])\n",
    "        complete = False\n",
    "if complete:\n",
    "    print('\\n全問正解です。このファイルを提出してください。')\n",
    "else:\n",
    "    print('\\n不正解の問題を訂正してください。')"
   ]
  },
  {
   "cell_type": "code",
   "execution_count": null,
   "metadata": {
    "colab": {},
    "colab_type": "code",
    "id": "q6hfVH2LSdbl"
   },
   "outputs": [],
   "source": []
  }
 ],
 "metadata": {
  "accelerator": "GPU",
  "colab": {
   "collapsed_sections": [],
   "name": "day6演習.ipynb",
   "provenance": []
  },
  "kernelspec": {
   "display_name": "Python 3",
   "language": "python",
   "name": "python3"
  },
  "language_info": {
   "codemirror_mode": {
    "name": "ipython",
    "version": 3
   },
   "file_extension": ".py",
   "mimetype": "text/x-python",
   "name": "python",
   "nbconvert_exporter": "python",
   "pygments_lexer": "ipython3",
   "version": "3.7.3"
  }
 },
 "nbformat": 4,
 "nbformat_minor": 1
}
