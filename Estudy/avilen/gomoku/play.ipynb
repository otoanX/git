{
 "cells": [
  {
   "cell_type": "markdown",
   "metadata": {},
   "source": [
    "# 五目並べAIと手動対戦\n",
    "\n",
    "プレイヤーと手動でテスト対戦を行う。"
   ]
  },
  {
   "cell_type": "code",
   "execution_count": null,
   "metadata": {},
   "outputs": [],
   "source": [
    "import numpy as np\n",
    "import random as rd\n",
    "import copy\n",
    "from time import time\n",
    "from gomoku import *\n",
    "from value_network import *\n",
    "from ai import *"
   ]
  },
  {
   "cell_type": "code",
   "execution_count": null,
   "metadata": {},
   "outputs": [],
   "source": [
    "size = 9\n",
    "model = value_network_model()"
   ]
  },
  {
   "cell_type": "markdown",
   "metadata": {},
   "source": [
    "プレイヤーによる着手の入力は以下の形でi行目j列目に行います。\n",
    "``` md\n",
    "i j\n",
    "```"
   ]
  },
  {
   "cell_type": "code",
   "execution_count": null,
   "metadata": {},
   "outputs": [],
   "source": [
    "g = Game()\n",
    "for i in range(size*size):\n",
    "    ep = 0\n",
    "    g.iout()\n",
    "    start = time()\n",
    "    if g.turn == -1:\n",
    "        g = ai_put(g, model, random=0.02)\n",
    "    else:\n",
    "        g.input_put()\n",
    "    end = time()\n",
    "    if g.end_game() != 0:\n",
    "        break\n",
    "g.iout()\n",
    "eg = g.end_game()\n",
    "result = 'DRAW' if eg is 0 else 'BLACK WIN' if eg is 1 else 'WHITE WIN'\n",
    "print(result)"
   ]
  },
  {
   "cell_type": "code",
   "execution_count": null,
   "metadata": {},
   "outputs": [],
   "source": []
  }
 ],
 "metadata": {
  "kernelspec": {
   "display_name": "Python 3",
   "language": "python",
   "name": "python3"
  },
  "language_info": {
   "codemirror_mode": {
    "name": "ipython",
    "version": 3
   },
   "file_extension": ".py",
   "mimetype": "text/x-python",
   "name": "python",
   "nbconvert_exporter": "python",
   "pygments_lexer": "ipython3",
   "version": "3.6.5"
  }
 },
 "nbformat": 4,
 "nbformat_minor": 2
}
